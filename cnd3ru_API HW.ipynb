{
 "cells": [
  {
   "cell_type": "code",
   "execution_count": 1,
   "id": "6e32ee5a-d6c4-40a3-96ec-1b78602053e9",
   "metadata": {},
   "outputs": [],
   "source": [
    "import json\n",
    "import pandas as pd\n",
    "import json\n",
    "import requests"
   ]
  },
  {
   "cell_type": "code",
   "execution_count": null,
   "id": "7e6ffc8a-357b-446a-9d77-204622703a83",
   "metadata": {},
   "outputs": [],
   "source": [
    "'''\n",
    "You have seen some examples of how to interact with JSON, CSV and make API Calls. \n",
    "Take some time to explore the YAHOO Finance Guide at https://financeapi.net/ which shows you endpoints for calling information. \n",
    "Your job is to code a Python Program that does the following things:\n",
    "\n",
    "1.\tTakes user input for a stock (using the Ticker Symbol): IE with the input() command\n",
    "2.\tYou will display back the user: Ticker Name, Full Name of the Stock, Current Market Price, Target Mean Price, \n",
    "    52 week high and 52 week low. Also, output 5 of the current trending stock.\n",
    "3.\tPut that data in a DataFrame and then store that to a CSV file\n",
    "4.\tHandle Errors (IE, the stock doesn’t exist and/or the API is not returning information)\n",
    "\n",
    "You will have to read the documentation and figure out which modules to call to get the data that you need. \n",
    "You will need to make more than one call to this API. Use the examples in our Zoom Session to guide you, but the documentation will be enough. \n",
    "Post your code to GitHub.\n",
    "\n",
    "'''"
   ]
  },
  {
   "cell_type": "code",
   "execution_count": 3,
   "id": "97a04845-9616-43f9-b01d-af84b2f5c30c",
   "metadata": {},
   "outputs": [
    {
     "name": "stdout",
     "output_type": "stream",
     "text": [
      "Which Stock do you want to research? Put the ticker name below:\n"
     ]
    },
    {
     "name": "stdin",
     "output_type": "stream",
     "text": [
      " aapl\n"
     ]
    },
    {
     "name": "stdout",
     "output_type": "stream",
     "text": [
      "What region do you want to research?:\n"
     ]
    },
    {
     "name": "stdin",
     "output_type": "stream",
     "text": [
      " US\n"
     ]
    }
   ],
   "source": [
    "#Takes user input for a stock (using the Ticker Symbol): IE with the input() command\n",
    "print(\"Which Stock do you want to research? Put the ticker name below:\")\n",
    "user_input = input()\n",
    "print(\"What region do you want to research?:\")\n",
    "region_input = input()"
   ]
  },
  {
   "cell_type": "code",
   "execution_count": 41,
   "id": "05c99abb-367f-4ca9-846d-e86f562162f2",
   "metadata": {},
   "outputs": [
    {
     "name": "stdout",
     "output_type": "stream",
     "text": [
      "The Stock we will research is:aapl and the US region.\n",
      "API request successful!\n",
      "Ticker Name: aapl\n",
      "Full Name of Stock: Apple Inc.\n",
      "Current Market Price: $227.79\n",
      "Target Mean Price: Apple Inc.\n",
      "52 Week High: $237.23\n",
      "52 Week Low: $164.08\n",
      "5 Trending Stocks: BTC-USD, XRP-USD, DOGE-USD, SCHD, NNN\n"
     ]
    }
   ],
   "source": [
    "print(\"The Stock we will research is:\" + user_input + \" and the \" + region_input + \" region.\")\n",
    "\n",
    "apikey=\"l7uzhhzrAw4ictjlNgje04HuqMcIbeei49YyItsr\"\n",
    "\n",
    "url_Stock_Name = \"https://yfapi.net/v6/finance/quote\"\n",
    "url_target = \"https://yfapi.net/ws/insights/v1/finance/insights\"\n",
    "url_trending = \"https://yfapi.net/v1/finance/trending/\"+region_input\n",
    "\n",
    "querystring = {\"symbols\":user_input}\n",
    "\n",
    "\n",
    "headers = {\n",
    "    'x-api-key': apikey\n",
    "    }\n",
    "#\"targetPrice\"\n",
    "name_response = requests.request(\"GET\",url_Stock_Name, headers=headers, params=querystring)\n",
    "target_response = requests.request(\"GET\", url_target, headers=headers, params=querystring)\n",
    "trend_response = requests.request(\"GET\", url_trending, headers=headers, params=querystring)\n",
    "\n",
    "if name_response.status_code == 200 and target_response.status_code == 200 and trend_response.status_code == 200:\n",
    "    print(\"API request successful!\")\n",
    "else:\n",
    "    print(f\"Failed to retrieve data: {response.status_code}\")\n",
    "\n",
    "\n",
    "name_json = name_response.json() \n",
    "full_name = name_json['quoteResponse']['result'][0][\"longName\"]\n",
    "\n",
    "cur_price = str(name_json['quoteResponse']['result'][0][\"regularMarketPrice\"])\n",
    "\n",
    "\n",
    "hi52 = str(name_json['quoteResponse']['result'][0][\"fiftyTwoWeekHigh\"])\n",
    "lo52 = str(name_json['quoteResponse']['result'][0][\"fiftyTwoWeekLow\"])\n",
    "\n",
    "\n",
    "tar_json = target_response.json()\n",
    "tarpr = str(name_json['quoteResponse']['result'][0][\"longName\"])\n",
    "\n",
    "\n",
    "trend_jsom = trend_response.json()\n",
    "trending = trend_jsom['finance'][\"result\"][0][\"quotes\"]\n",
    "\n",
    "stock_trending = []\n",
    "\n",
    "for q in range(5):\n",
    "    stock_trending.append(str(trending[q][\"symbol\"]))\n",
    "    \n",
    "    \n",
    "\n",
    "#['result'][0][\"quotes\"][0][\"symbol\"]\n",
    "print(\"Ticker Name: \" + user_input + \"\\n\" +\n",
    "      \"Full Name of Stock: \" + full_name + \"\\n\" + \n",
    "      \"Current Market Price: $\" + cur_price + \"\\n\" +\n",
    "      \"Target Mean Price: \" + tarpr+ \"\\n\" +\n",
    "      \"52 Week High: $\" + hi52 + \"\\n\" +\n",
    "      \"52 Week Low: $\" + lo52 + \"\\n\" +\n",
    "      \"5 Trending Stocks: \" + stock_trending[0] + \", \" + stock_trending[1] + \", \" + stock_trending[2] + \", \"+ stock_trending[3] + \", \"+ stock_trending[4]\n",
    "     )\n",
    "# you will have to put everything under \"def\" to make a function "
   ]
  },
  {
   "cell_type": "code",
   "execution_count": 35,
   "id": "679fc5d6-2b4b-4917-b45d-cb09a2d19690",
   "metadata": {},
   "outputs": [
    {
     "name": "stdout",
     "output_type": "stream",
     "text": [
      "  Ticker        Name   CurPr      Target    Hi52    Lo52      Tr1      Tr2  \\\n",
      "0   aapl  Apple Inc.  227.79  Apple Inc.  237.23  164.08  BTC-USD  XRP-USD   \n",
      "\n",
      "        Tr3   Tr4  Tr5  \n",
      "0  DOGE-USD  SCHD  NNN  \n"
     ]
    }
   ],
   "source": [
    "#Put that data in a DataFrame and then store that to a CSV file\n",
    "#Handle Errors (IE, the stock doesn’t exist and/or the API is not returning information)\n",
    "\n",
    "# Initialize data to lists.\n",
    "data = [{'Ticker': user_input, 'Name': full_name, 'CurPr': cur_price,\n",
    "        'Target': tarpr, 'Hi52': hi52, 'Lo52': lo52, 'Tr1': stock_trending[0], 'Tr2': stock_trending[1], 'Tr3': stock_trending[2], 'Tr4': stock_trending[3], 'Tr5': stock_trending[4]}]\n",
    "\n",
    "# Creates DataFrame.\n",
    "df = pd.DataFrame(data)\n",
    "print(df)"
   ]
  },
  {
   "cell_type": "code",
   "execution_count": 39,
   "id": "c450a1cd-2d46-4e0c-81be-517d945b35ac",
   "metadata": {},
   "outputs": [
    {
     "name": "stdout",
     "output_type": "stream",
     "text": [
      "API request successful!\n"
     ]
    }
   ],
   "source": []
  },
  {
   "cell_type": "code",
   "execution_count": null,
   "id": "cd9008a0-a91b-440e-9a88-df3c00b86670",
   "metadata": {},
   "outputs": [],
   "source": []
  }
 ],
 "metadata": {
  "kernelspec": {
   "display_name": "Python 3 (ipykernel)",
   "language": "python",
   "name": "python3"
  },
  "language_info": {
   "codemirror_mode": {
    "name": "ipython",
    "version": 3
   },
   "file_extension": ".py",
   "mimetype": "text/x-python",
   "name": "python",
   "nbconvert_exporter": "python",
   "pygments_lexer": "ipython3",
   "version": "3.12.4"
  }
 },
 "nbformat": 4,
 "nbformat_minor": 5
}
