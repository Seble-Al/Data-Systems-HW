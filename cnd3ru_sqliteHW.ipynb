{
 "cells": [
  {
   "cell_type": "code",
   "execution_count": 1,
   "id": "191ad961-ba8f-496f-af3f-520237413fa4",
   "metadata": {},
   "outputs": [
    {
     "name": "stdout",
     "output_type": "stream",
     "text": [
      "Requirement already satisfied: sqlalchemy in /opt/anaconda3/lib/python3.12/site-packages (2.0.30)\n",
      "Requirement already satisfied: typing-extensions>=4.6.0 in /opt/anaconda3/lib/python3.12/site-packages (from sqlalchemy) (4.11.0)\n",
      "Requirement already satisfied: greenlet!=0.4.17 in /opt/anaconda3/lib/python3.12/site-packages (from sqlalchemy) (3.0.1)\n",
      "Requirement already satisfied: pymysql in /opt/anaconda3/lib/python3.12/site-packages (1.1.1)\n",
      "Requirement already satisfied: mysql.connector-python in /opt/anaconda3/lib/python3.12/site-packages (9.0.0)\n",
      "Requirement already satisfied: matplotlib in /opt/anaconda3/lib/python3.12/site-packages (3.8.4)\n",
      "Requirement already satisfied: contourpy>=1.0.1 in /opt/anaconda3/lib/python3.12/site-packages (from matplotlib) (1.2.0)\n",
      "Requirement already satisfied: cycler>=0.10 in /opt/anaconda3/lib/python3.12/site-packages (from matplotlib) (0.11.0)\n",
      "Requirement already satisfied: fonttools>=4.22.0 in /opt/anaconda3/lib/python3.12/site-packages (from matplotlib) (4.51.0)\n",
      "Requirement already satisfied: kiwisolver>=1.3.1 in /opt/anaconda3/lib/python3.12/site-packages (from matplotlib) (1.4.4)\n",
      "Requirement already satisfied: numpy>=1.21 in /opt/anaconda3/lib/python3.12/site-packages (from matplotlib) (1.26.4)\n",
      "Requirement already satisfied: packaging>=20.0 in /opt/anaconda3/lib/python3.12/site-packages (from matplotlib) (23.2)\n",
      "Requirement already satisfied: pillow>=8 in /opt/anaconda3/lib/python3.12/site-packages (from matplotlib) (10.3.0)\n",
      "Requirement already satisfied: pyparsing>=2.3.1 in /opt/anaconda3/lib/python3.12/site-packages (from matplotlib) (3.0.9)\n",
      "Requirement already satisfied: python-dateutil>=2.7 in /opt/anaconda3/lib/python3.12/site-packages (from matplotlib) (2.9.0.post0)\n",
      "Requirement already satisfied: six>=1.5 in /opt/anaconda3/lib/python3.12/site-packages (from python-dateutil>=2.7->matplotlib) (1.16.0)\n"
     ]
    }
   ],
   "source": [
    "!pip install sqlalchemy\n",
    "!pip install pymysql\n",
    "!pip install mysql.connector-python\n",
    "!pip install matplotlib"
   ]
  },
  {
   "cell_type": "code",
   "execution_count": 2,
   "id": "21c20b3a-3dc2-4f39-9d96-2aa86b21064e",
   "metadata": {},
   "outputs": [],
   "source": [
    "import os\n",
    "import pymysql\n",
    "import mysql.connector\n",
    "from sqlalchemy import create_engine\n",
    "\n",
    "import pandas as pd\n",
    "import matplotlib.pyplot as plt"
   ]
  },
  {
   "cell_type": "code",
   "execution_count": 11,
   "id": "9bdac5d0-1efd-4164-826c-690cb1541a82",
   "metadata": {},
   "outputs": [],
   "source": [
    "import sqlite3\n",
    "\n",
    "# 1. Set up the Database\n",
    "\n",
    "# Create or connect to an SQLite database\n",
    "connection = sqlite3.connect('student_grades.db.')\n",
    "\n",
    "# Create a cursor object\n",
    "cursor = connection.cursor()"
   ]
  },
  {
   "cell_type": "code",
   "execution_count": 15,
   "id": "f2eb1307-0902-44af-aab0-a208e3a12fe9",
   "metadata": {},
   "outputs": [
    {
     "data": {
      "text/plain": [
       "<sqlite3.Cursor at 0x10f31fd40>"
      ]
     },
     "execution_count": 15,
     "metadata": {},
     "output_type": "execute_result"
    }
   ],
   "source": [
    "# 2. Create the Necessary Tables\n",
    "\n",
    "# Students Table\n",
    "\n",
    "cursor.execute('''\n",
    "CREATE TABLE IF NOT EXISTS students (\n",
    "    student_id INTEGER PRIMARY KEY AUTOINCREMENT,\n",
    "    first_name TEXT,\n",
    "    last_name TEXT,\n",
    "    revenue INTEGER\n",
    ")\n",
    "''')\n",
    "\n",
    "\n",
    "\n",
    "# Grades Table\n",
    "cursor.execute('''\n",
    "CREATE TABLE IF NOT EXISTS grades (\n",
    "    grade_id INTEGER PRIMARY KEY AUTOINCREMENT,\n",
    "    student_id INTEGER REFERENCES students(student_id),\n",
    "    subject TEXT,\n",
    "    grade INT\n",
    "      \n",
    ")\n",
    "''')"
   ]
  },
  {
   "cell_type": "code",
   "execution_count": 17,
   "id": "daaec942-1e3e-4ae4-98fd-39632dbf84ef",
   "metadata": {},
   "outputs": [],
   "source": [
    "# 3. Insert Data Into the Tables\n",
    "\n",
    "stud_data = [\n",
    "    (1, 'Alice', 'Johnson'), # oh that's a handy way to do it. that's nice. \n",
    "    (2, 'Bob', 'Smith'),\n",
    "    (3, 'Carol', 'White'),\n",
    "    (4, 'David', 'Brown'),\n",
    "    (5, 'Eve', 'David')\n",
    "]\n",
    "\n",
    "grade_data = [\n",
    "    (1, 1, 'Math', 95), # oh that's a handy way to do it. that's nice. \n",
    "    (2, 1, 'English', 88),\n",
    "    (3, 1, 'History', 90),\n",
    "    (4, 2, 'Math', 82),\n",
    "    (5, 2, 'English', 76),\n",
    "    (6, 2, 'History', 85), \n",
    "    (7, 3, 'Math', 84),\n",
    "    (8, 3, 'English', 93),\n",
    "    (9, 3, 'History', 80), \n",
    "    (10, 5, 'Math', 93),\n",
    "    (11, 5, 'English', 68),\n",
    "    (12, 5, 'History', 89), \n",
    "    (13, 4, 'Math', 92),\n",
    "    (14, 4, 'English', 80),\n",
    "    (15, 4, 'History', 95)\n",
    "    \n",
    "]\n",
    "\n",
    "\n",
    "# Insert data into the table\n",
    "cursor.executemany('''\n",
    "INSERT INTO students (student_id, first_name, last_name) VALUES (?, ?, ?)\n",
    "''', stud_data) #executemany is to just let u have a data type with a lot of stuff in it. instead of a for loop. i guess.\n",
    "\n",
    "# Commit the transaction\n",
    "connection.commit()\n",
    "\n",
    "cursor.executemany('''\n",
    "INSERT INTO grades (grade_id, student_id, subject, grade) VALUES (?, ?, ?, ?)\n",
    "''', grade_data)\n",
    "\n",
    "connection.commit()"
   ]
  },
  {
   "cell_type": "code",
   "execution_count": 21,
   "id": "a8fd2bf3-d61b-4725-b74b-162305a9c1b8",
   "metadata": {},
   "outputs": [
    {
     "name": "stdout",
     "output_type": "stream",
     "text": [
      "('Alice', 'Johnson', 95)\n",
      "('Alice', 'Johnson', 88)\n",
      "('Alice', 'Johnson', 90)\n",
      "('Bob', 'Smith', 82)\n",
      "('Bob', 'Smith', 76)\n",
      "('Bob', 'Smith', 85)\n",
      "('Carol', 'White', 84)\n",
      "('Carol', 'White', 93)\n",
      "('Carol', 'White', 80)\n",
      "('Eve', 'David', 93)\n",
      "('Eve', 'David', 68)\n",
      "('Eve', 'David', 89)\n",
      "('David', 'Brown', 92)\n",
      "('David', 'Brown', 80)\n",
      "('David', 'Brown', 95)\n"
     ]
    }
   ],
   "source": [
    "# Perform SQL Queries\n",
    "'''\n",
    "1. Retrieve all students' names and their grades.\n",
    "2. Find the average grade for each student.\n",
    "3. Find the student with the highest average grade.\n",
    "4. Find the average grade for the Math subject.\n",
    "5. List all students who scored above 90 in any subject.\n",
    "'''\n",
    "#1. Retrieve all students' names and their grades.\n",
    "\n",
    "#first join the tables\n",
    "cursor.execute('''\n",
    "SELECT students.first_name, students.last_name, grades.grade\n",
    "FROM students\n",
    "JOIN grades ON students.student_id = grades.student_id\n",
    "''')\n",
    "\n",
    "# Fetch and display the results\n",
    "joined_data = cursor.fetchall()\n",
    "\n",
    "for row in joined_data:\n",
    "    print(row)\n",
    "    "
   ]
  },
  {
   "cell_type": "code",
   "execution_count": 23,
   "id": "4def5ce3-7b1b-4b1a-ac4f-382a8a1708b5",
   "metadata": {},
   "outputs": [
    {
     "name": "stdout",
     "output_type": "stream",
     "text": [
      "(1, 'Alice', 'Johnson', 91.0)\n",
      "(2, 'Bob', 'Smith', 81.0)\n",
      "(3, 'Carol', 'White', 85.66666666666667)\n",
      "(4, 'David', 'Brown', 89.0)\n",
      "(5, 'Eve', 'David', 83.33333333333333)\n"
     ]
    }
   ],
   "source": [
    "#2. Find the average grade for each student. wait no u can just pick the max out of the selected wjen you print. i am so smart ahaha\n",
    "cursor.execute('''\n",
    "SELECT students.student_id, students.first_name, students.last_name, AVG(grades.grade)\n",
    "FROM students\n",
    "JOIN grades ON students.student_id = grades.student_id\n",
    "GROUP BY students.student_id\n",
    "''')\n",
    "avg_data = cursor.fetchall()\n",
    "for row in avg_data:\n",
    "    print(row)"
   ]
  },
  {
   "cell_type": "code",
   "execution_count": 33,
   "id": "a3e4cbc5-81d9-4f4c-90a9-2a72cd6bd557",
   "metadata": {},
   "outputs": [
    {
     "name": "stdout",
     "output_type": "stream",
     "text": [
      "('Alice', 'Johnson', 91.0)\n"
     ]
    }
   ],
   "source": [
    "#3. Find student with highest average grade\n",
    "cursor.execute('''\n",
    "SELECT  students.first_name, students.last_name, AVG(grades.grade)\n",
    "FROM students\n",
    "JOIN grades ON students.student_id = grades.student_id\n",
    "GROUP BY students.student_id ORDER BY grades.grade DESC\n",
    "''')\n",
    "avg_order_data = cursor.fetchall()\n",
    "\n",
    "print(avg_order_data[0])"
   ]
  },
  {
   "cell_type": "code",
   "execution_count": null,
   "id": "5ebce887-17ed-465b-9244-75736af9a8e1",
   "metadata": {},
   "outputs": [],
   "source": [
    "#4. average math grade\n",
    "cursor.execute('''\n",
    "SELECT AVG(grade) FROM grades WHERE subject = \"Math\" \n",
    "''')"
   ]
  },
  {
   "cell_type": "code",
   "execution_count": null,
   "id": "36f4624e-f396-4bbe-9f09-2c539dc741e5",
   "metadata": {},
   "outputs": [],
   "source": [
    "avg_math = cursor.fetchone()\n",
    "print(avg_math)\n",
    "\n",
    "#5. all students who score above 90\n",
    "for row in joined_data:\n",
    "    if (row[2] > 90):\n",
    "        print(row[0], row[1])\n",
    "\n",
    "    "
   ]
  },
  {
   "cell_type": "code",
   "execution_count": 31,
   "id": "b4947802-0b91-44ef-bc83-1fe2225074a7",
   "metadata": {},
   "outputs": [
    {
     "name": "stdout",
     "output_type": "stream",
     "text": [
      "   student_id first_name last_name revenue\n",
      "0           1      Alice   Johnson    None\n",
      "1           2        Bob     Smith    None\n",
      "2           3      Carol     White    None\n",
      "3           4      David     Brown    None\n",
      "4           5        Eve     David    None\n",
      "   grade_id  student_id  subject  grade\n",
      "0         1           1     Math     95\n",
      "1         2           1  English     88\n",
      "2         3           1  History     90\n",
      "3         4           2     Math     82\n",
      "4         5           2  English     76\n"
     ]
    },
    {
     "data": {
      "text/plain": [
       "\"\\nLoad Data into Pandas\\n1. Use Pandas to load the data from the students and grades tables into DataFrames.\\n2. Use JOIN queries to combine the data from both tables into a single DataFrame that\\nincludes each student's name, subject, and grade.\\n3. Visualize the data with Matplotlib:\\no Plot the average grades for each student.\\no Create a bar chart showing the average grade for each subject\\n\""
      ]
     },
     "execution_count": 31,
     "metadata": {},
     "output_type": "execute_result"
    }
   ],
   "source": [
    "import pandas as pd\n",
    "\n",
    "stud_df = pd.read_sql_query('SELECT * FROM students', connection)\n",
    "\n",
    "grade_df = pd.read_sql_query('SELECT * FROM grades', connection)\n",
    "\n",
    "# Display the first few rows of the DataFrame\n",
    "print(stud_df.head())\n",
    "\n",
    "print(grade_df.head())\n",
    "\n",
    "'''\n",
    "Load Data into Pandas\n",
    "1. Use Pandas to load the data from the students and grades tables into DataFrames.\n",
    "2. Use JOIN queries to combine the data from both tables into a single DataFrame that\n",
    "includes each student's name, subject, and grade.\n",
    "3. Visualize the data with Matplotlib:\n",
    "o Plot the average grades for each student.\n",
    "o Create a bar chart showing the average grade for each subject\n",
    "'''\n",
    "\n"
   ]
  },
  {
   "cell_type": "code",
   "execution_count": 35,
   "id": "70b403d8-4a36-4121-ba9b-ab9a335a7f49",
   "metadata": {},
   "outputs": [
    {
     "name": "stdout",
     "output_type": "stream",
     "text": [
      "  first_name last_name  subject  grade\n",
      "0      Alice   Johnson     Math     95\n",
      "1      Alice   Johnson  English     88\n",
      "2      Alice   Johnson  History     90\n",
      "3        Bob     Smith     Math     82\n",
      "4        Bob     Smith  English     76\n"
     ]
    }
   ],
   "source": [
    "# 2. Use JOIN queries to combine the data from both tables into a single DataFrame that\n",
    "# includes each student's name, subject, and grade.\n",
    "\n",
    "join_df = pd.read_sql_query('''\n",
    "SELECT students.first_name, students.last_name, grades.subject,grades.grade\n",
    "FROM students\n",
    "JOIN grades ON students.student_id = grades.student_id\n",
    "''', connection)\n",
    "print(join_df.head())\n"
   ]
  },
  {
   "cell_type": "code",
   "execution_count": 49,
   "id": "67514968-703a-4357-9a45-732f7f6b9391",
   "metadata": {},
   "outputs": [
    {
     "name": "stderr",
     "output_type": "stream",
     "text": [
      "/var/folders/xq/7shpf5614kb7rbv9g75mkym00000gn/T/ipykernel_7312/3886932083.py:17: UserWarning: FigureCanvasAgg is non-interactive, and thus cannot be shown\n",
      "  f1.show()\n",
      "/var/folders/xq/7shpf5614kb7rbv9g75mkym00000gn/T/ipykernel_7312/3886932083.py:26: UserWarning: FigureCanvasAgg is non-interactive, and thus cannot be shown\n",
      "  f2.show()\n"
     ]
    },
    {
     "data": {
      "text/plain": [
       "<Figure size 640x480 with 0 Axes>"
      ]
     },
     "metadata": {},
     "output_type": "display_data"
    },
    {
     "data": {
      "image/png": "[encoded data removed]",
      "text/plain": [
       "<Figure size 1000x600 with 1 Axes>"
      ]
     },
     "metadata": {},
     "output_type": "display_data"
    },
    {
     "data": {
      "image/png": "[encoded data removed]",
      "text/plain": [
       "<Figure size 1000x600 with 1 Axes>"
      ]
     },
     "metadata": {},
     "output_type": "display_data"
    }
   ],
   "source": [
    "''' 3. Visualize the data with Matplotlib:\n",
    "        o Plot the average grades for each student.\n",
    "        o Create a bar chart showing the average grade for each subject\n",
    "'''\n",
    "\n",
    "import matplotlib.pyplot as plt\n",
    "\n",
    "# Plot the average grades for each student.\n",
    "join_df['name'] = join_df['first_name'] + \" \" + join_df['last_name']\n",
    "\n",
    "f1 = plt.figure(1)\n",
    "plt.figure(figsize=(10,6))\n",
    "plt.bar(join_df['name'], join_df['grade'], color='lightgreen')\n",
    "plt.xlabel('Student')\n",
    "plt.ylabel('Average')\n",
    "plt.title('Average Grade per Student')\n",
    "f1.show()\n",
    "# Plot sales data\n",
    "\n",
    "f2 = plt.figure(2)\n",
    "plt.figure(figsize=(10,6))\n",
    "plt.bar(join_df['subject'], join_df['grade'], color='lightgreen')\n",
    "plt.xlabel('Class Subject')\n",
    "plt.ylabel('Average')\n",
    "plt.title('Average Grade per Subject')\n",
    "f2.show()\n",
    "\n"
   ]
  },
  {
   "cell_type": "code",
   "execution_count": 51,
   "id": "ebd04920-47ff-4e59-8a6b-2db3d2a79317",
   "metadata": {},
   "outputs": [],
   "source": [
    "# DON'T FORGET TO CLOSE THE CURSOR!!\n",
    "cursor.close()"
   ]
  },
  {
   "cell_type": "code",
   "execution_count": null,
   "id": "16925570-c0e5-4e64-94b5-2cff497db95d",
   "metadata": {},
   "outputs": [],
   "source": []
  }
 ],
 "metadata": {
  "kernelspec": {
   "display_name": "Python 3 (ipykernel)",
   "language": "python",
   "name": "python3"
  },
  "language_info": {
   "codemirror_mode": {
    "name": "ipython",
    "version": 3
   },
   "file_extension": ".py",
   "mimetype": "text/x-python",
   "name": "python",
   "nbconvert_exporter": "python",
   "pygments_lexer": "ipython3",
   "version": "3.12.4"
  }
 },
 "nbformat": 4,
 "nbformat_minor": 5
}
